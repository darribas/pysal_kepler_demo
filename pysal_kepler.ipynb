{
 "cells": [
  {
   "cell_type": "markdown",
   "metadata": {},
   "source": [
    "# `Pysal` and Kepler.gl"
   ]
  },
  {
   "cell_type": "code",
   "execution_count": 1,
   "metadata": {},
   "outputs": [
    {
     "name": "stderr",
     "output_type": "stream",
     "text": [
      "/opt/conda/lib/python3.7/site-packages/pysal/model/spvcm/abstracts.py:10: UserWarning: The `dill` module is required to use the sqlite backend fully.\n",
      "  from .sqlite import head_to_sql, start_sql\n"
     ]
    }
   ],
   "source": [
    "from IPython.display import IFrame\n",
    "from keplergl import KeplerGl\n",
    "import pandas as pd\n",
    "import geopandas as gpd\n",
    "from json import dump, load\n",
    "\n",
    "from pysal.lib.cg import alpha_shape_auto\n",
    "from pysal.lib.weights import Queen\n",
    "from pysal.explore.esda import Moran_Local"
   ]
  },
  {
   "cell_type": "markdown",
   "metadata": {},
   "source": [
    "## NYC Projects under construction\n",
    "\n",
    "- [[`URL`](https://data.cityofnewyork.us/Housing-Development/Projects-in-Construction-Map/dzgh-ja44)]"
   ]
  },
  {
   "cell_type": "code",
   "execution_count": 2,
   "metadata": {},
   "outputs": [
    {
     "name": "stdout",
     "output_type": "stream",
     "text": [
      "CPU times: user 40 ms, sys: 10 ms, total: 50 ms\n",
      "Wall time: 1.28 s\n"
     ]
    }
   ],
   "source": [
    "%%time\n",
    "url = 'https://data.cityofnewyork.us/api/views/dzgh-ja44/rows.csv?accessType=DOWNLOAD'\n",
    "pts = pd.read_csv(url)"
   ]
  },
  {
   "cell_type": "code",
   "execution_count": 3,
   "metadata": {},
   "outputs": [
    {
     "name": "stdout",
     "output_type": "stream",
     "text": [
      "<class 'pandas.core.frame.DataFrame'>\n",
      "RangeIndex: 2834 entries, 0 to 2833\n",
      "Data columns (total 20 columns):\n",
      "School Name              2831 non-null object\n",
      "BoroughCode              2834 non-null object\n",
      "Geographical District    2834 non-null int64\n",
      "Project Description      2831 non-null object\n",
      "Construction Award       2834 non-null float64\n",
      "Project type             2834 non-null object\n",
      "Building ID              2834 non-null object\n",
      "Building Address         2834 non-null object\n",
      "City                     2834 non-null object\n",
      "Postcode                 2828 non-null float64\n",
      "Borough                  2826 non-null object\n",
      "Location 1               2824 non-null object\n",
      "Latitude                 2824 non-null float64\n",
      "Longitude                2824 non-null float64\n",
      "Community Board          2824 non-null float64\n",
      "Council District         2824 non-null float64\n",
      "Census Tract             2824 non-null float64\n",
      "BIN                      2810 non-null float64\n",
      "BBL                      2810 non-null float64\n",
      "NTA                      2824 non-null object\n",
      "dtypes: float64(9), int64(1), object(10)\n",
      "memory usage: 442.9+ KB\n"
     ]
    }
   ],
   "source": [
    "pts.info()"
   ]
  },
  {
   "cell_type": "markdown",
   "metadata": {},
   "source": [
    "### Points"
   ]
  },
  {
   "cell_type": "code",
   "execution_count": 4,
   "metadata": {
    "scrolled": false
   },
   "outputs": [
    {
     "name": "stdout",
     "output_type": "stream",
     "text": [
      "User Guide: https://github.com/keplergl/kepler.gl/blob/master/docs/keplergl-jupyter/user-guide.md\n"
     ]
    },
    {
     "data": {
      "application/vnd.jupyter.widget-view+json": {
       "model_id": "c709e2c5b1bf493bbb2e9120c2a1054e",
       "version_major": 2,
       "version_minor": 0
      },
      "text/plain": [
       "KeplerGl(data={'Projects': {'index': [0, 1, 2, 3, 4, 5, 6, 7, 8, 9, 10, 11, 12, 13, 14, 15, 16, 17, 18, 19, 20…"
      ]
     },
     "metadata": {},
     "output_type": "display_data"
    }
   ],
   "source": [
    "m1 = KeplerGl()\n",
    "m1.add_data(data=pts, name='Projects')\n",
    "m1"
   ]
  },
  {
   "cell_type": "markdown",
   "metadata": {},
   "source": [
    "### Polygons\n",
    "\n",
    "Now what if we want to draw the extent of a borough through the currently ongoing projects? For this we can turn groups of points into polygons using [`PySAL`'s alpha shapes](https://github.com/pysal/pysal/blob/master/pysal/lib/cg/alpha_shapes.py). \n",
    "\n",
    "Just for fun, let's first generate the boundary of NYC through its current projects:"
   ]
  },
  {
   "cell_type": "code",
   "execution_count": 5,
   "metadata": {},
   "outputs": [
    {
     "data": {
      "image/svg+xml": [
       "<svg xmlns=\"http://www.w3.org/2000/svg\" xmlns:xlink=\"http://www.w3.org/1999/xlink\" width=\"100.0\" height=\"100.0\" viewBox=\"-74.26551724 40.48688476 0.5777794799999896 0.43806748000000084\" preserveAspectRatio=\"xMinYMin meet\"><g transform=\"matrix(1,0,0,-1,0,81.411837)\"><path fill-rule=\"evenodd\" fill=\"#66cc99\" stroke=\"#555555\" stroke-width=\"0.011555589599999791\" opacity=\"0.6\" d=\"M -74.01103499999999,40.71602 L -74.007191,40.730999 L -74.002136,40.742867 L -73.992953,40.765184000000005 L -73.991945,40.770531 L -73.989609,40.772883 L -73.97951,40.786611 L -73.979507,40.786615999999995 L -73.973292,40.795157 L -73.965613,40.802917 L -73.955325,40.815256 L -73.951145,40.820953 L -73.946845,40.826295 L -73.94046800000001,40.845469 L -73.934048,40.853466 L -73.930672,40.86079 L -73.924835,40.866053 L -73.913697,40.887111 L -73.905229,40.903553 L -73.8675,40.899295 L -73.85482900000001,40.902205 L -73.845968,40.895103999999996 L -73.838471,40.891732 L -73.824303,40.864676 L -73.81841700000001,40.826526 L -73.779099,40.782298 L -73.749369,40.769271 L -73.733694,40.762708 L -73.729487,40.756778000000004 L -73.709845,40.744099 L -73.709137,40.734318 L -73.72998199999999,40.685491999999996 L -73.736713,40.674831 L -73.75320699999999,40.656126 L -73.74396800000001,40.600198999999996 L -73.760448,40.59359 L -73.767199,40.593779 L -73.786182,40.593967 L -73.795304,40.594538 L -73.822624,40.586065999999995 L -73.825711,40.584109000000005 L -73.831836,40.580928 L -73.854539,40.577026000000004 L -73.854403,40.578261 L -73.912989,40.615998 L -73.928793,40.596145 L -73.94381899999999,40.579451 L -73.956329,40.579737 L -73.962071,40.579607 L -73.979628,40.578255 L -73.99194,40.574411 L -74.000194,40.577217 L -74.03138100000001,40.618041 L -74.08058,40.59377 L -74.088509,40.582744 L -74.107737,40.569393 L -74.111823,40.565319 L -74.124622,40.561690999999996 L -74.13705999999999,40.55258 L -74.14631999999999,40.545281 L -74.185941,40.523757 L -74.222403,40.508809 L -74.24342800000001,40.508284 L -74.244118,40.509037 L -74.21400200000001,40.542246 L -74.190648,40.591702000000005 L -74.17846899999999,40.604274 L -74.156439,40.63179 L -74.148671,40.634443 L -74.141818,40.634572999999996 L -74.117509,40.636587 L -74.095378,40.640685999999995 L -74.081222,40.644735 L -74.07873000000001,40.642793 L -74.021011,40.643337 L -74.011558,40.677343 L -74.01155200000001,40.704541 L -74.01103499999999,40.71602 z\" /></g></svg>"
      ],
      "text/plain": [
       "<shapely.geometry.polygon.Polygon at 0x7f5c13eadef0>"
      ]
     },
     "execution_count": 5,
     "metadata": {},
     "output_type": "execute_result"
    }
   ],
   "source": [
    "poly = alpha_shape_auto(pts[['Longitude', 'Latitude']].dropna().values)\n",
    "poly"
   ]
  },
  {
   "cell_type": "markdown",
   "metadata": {},
   "source": [
    "Let's turn it into a `GeoDataFrame`:"
   ]
  },
  {
   "cell_type": "code",
   "execution_count": 6,
   "metadata": {},
   "outputs": [],
   "source": [
    "nyc = gpd.GeoDataFrame({'geometry': [poly]}, crs='+init=epsg:4326')"
   ]
  },
  {
   "cell_type": "markdown",
   "metadata": {},
   "source": [
    "Now we can take this philosophy and apply it to each borough:"
   ]
  },
  {
   "cell_type": "code",
   "execution_count": 7,
   "metadata": {},
   "outputs": [],
   "source": [
    "boros = pts.groupby('BoroughCode')\\\n",
    "           [['Longitude', 'Latitude']]\\\n",
    "           .apply(lambda tab: alpha_shape_auto(tab.dropna().values))\n",
    "boros = gpd.GeoDataFrame({'geometry': boros}, crs='+init=epsg:4326')"
   ]
  },
  {
   "cell_type": "code",
   "execution_count": 8,
   "metadata": {},
   "outputs": [
    {
     "data": {
      "text/plain": [
       "<matplotlib.axes._subplots.AxesSubplot at 0x7f5c13ef6358>"
      ]
     },
     "execution_count": 8,
     "metadata": {},
     "output_type": "execute_result"
    },
    {
     "data": {
      "image/png": "[encoded data removed]",
      "text/plain": [
       "<Figure size 432x288 with 1 Axes>"
      ]
     },
     "metadata": {
      "needs_background": "light"
     },
     "output_type": "display_data"
    }
   ],
   "source": [
    "boros.plot()"
   ]
  },
  {
   "cell_type": "markdown",
   "metadata": {},
   "source": [
    "Now let's ship this over to Kepler!"
   ]
  },
  {
   "cell_type": "code",
   "execution_count": 9,
   "metadata": {
    "scrolled": false
   },
   "outputs": [
    {
     "name": "stdout",
     "output_type": "stream",
     "text": [
      "User Guide: https://github.com/keplergl/kepler.gl/blob/master/docs/keplergl-jupyter/user-guide.md\n"
     ]
    },
    {
     "data": {
      "application/vnd.jupyter.widget-view+json": {
       "model_id": "2478345b975c4c4caf71d1980033f0f9",
       "version_major": 2,
       "version_minor": 0
      },
      "text/plain": [
       "KeplerGl(data={'Boroughs': {'index': ['K', 'M', 'Q', 'R', 'X'], 'columns': ['geometry'], 'data': [['POLYGON ((…"
      ]
     },
     "metadata": {},
     "output_type": "display_data"
    }
   ],
   "source": [
    "m2 = KeplerGl()\n",
    "m2.add_data(data=boros, name='Boroughs')\n",
    "m2.add_data(data=nyc, name='NYC')\n",
    "m2"
   ]
  },
  {
   "cell_type": "markdown",
   "metadata": {},
   "source": [
    "After a bit of (manual) tweaking, we can style it up and save the config:"
   ]
  },
  {
   "cell_type": "code",
   "execution_count": 10,
   "metadata": {},
   "outputs": [],
   "source": [
    "# Commented out to avoid re-write when not tweaked\n",
    "#with open('config.json', 'w') as f:\n",
    "#    dump(m2.config, f)"
   ]
  },
  {
   "cell_type": "markdown",
   "metadata": {},
   "source": [
    "And we can now load it back up!"
   ]
  },
  {
   "cell_type": "code",
   "execution_count": 11,
   "metadata": {},
   "outputs": [
    {
     "name": "stdout",
     "output_type": "stream",
     "text": [
      "User Guide: https://github.com/keplergl/kepler.gl/blob/master/docs/keplergl-jupyter/user-guide.md\n"
     ]
    },
    {
     "data": {
      "application/vnd.jupyter.widget-view+json": {
       "model_id": "d14a4a00e9be4bf485ade2d5fd762652",
       "version_major": 2,
       "version_minor": 0
      },
      "text/plain": [
       "KeplerGl(config={'version': 'v1', 'config': {'visState': {'filters': [], 'layers': [{'id': 'lg9tj1', 'type': '…"
      ]
     },
     "metadata": {},
     "output_type": "display_data"
    }
   ],
   "source": [
    "config = load(open('config.json'))\n",
    "m2_re = KeplerGl(data={'Boroughs': boros,\n",
    "                       'NYC': nyc},\n",
    "                 config=config)\n",
    "m2_re"
   ]
  },
  {
   "cell_type": "markdown",
   "metadata": {},
   "source": [
    "## Attractive Neighborhoods in Madrid\n",
    "\n",
    "Using data from [Arturo](http://300000kms.net/on-going-arturo-an-algorithm-for-more-livable-cities/) and, based on [this tutorial](https://github.com/darribas/gds_ucm19/blob/master/pack/notebooks/02_explore.ipynb), we can calculate hotspots and coldspots of attractiveness in Madrid."
   ]
  },
  {
   "cell_type": "code",
   "execution_count": 12,
   "metadata": {},
   "outputs": [],
   "source": [
    "url = (\"https://github.com/darribas/gds_ucm19/blob/master/\"\\\n",
    "       \"pack/data/demo_data.gpkg?raw=true\")\n",
    "mad = gpd.read_file(url)"
   ]
  },
  {
   "cell_type": "code",
   "execution_count": 13,
   "metadata": {
    "scrolled": false
   },
   "outputs": [
    {
     "name": "stdout",
     "output_type": "stream",
     "text": [
      "User Guide: https://github.com/keplergl/kepler.gl/blob/master/docs/keplergl-jupyter/user-guide.md\n"
     ]
    },
    {
     "data": {
      "application/vnd.jupyter.widget-view+json": {
       "model_id": "08fe3fc21e414355a957f546e509afc9",
       "version_major": 2,
       "version_minor": 0
      },
      "text/plain": [
       "KeplerGl(data={'Madrid': {'index': [0, 1, 2, 3, 4, 5, 6, 7, 8, 9, 10, 11, 12, 13, 14, 15, 16, 17, 18, 19, 20, …"
      ]
     },
     "metadata": {},
     "output_type": "display_data"
    }
   ],
   "source": [
    "m3 = KeplerGl()\n",
    "m3.add_data(data=mad, name='Madrid')\n",
    "m3"
   ]
  },
  {
   "cell_type": "markdown",
   "metadata": {},
   "source": [
    "Now, let's calculate [Local Indicators of Spatial Association](http://darribas.org/gds18/content/labs/lab_06.html#Local-Spatial-autocorrelation) for the `arturo_score`, which measures the degree of attractiveness of a neighbourhood:"
   ]
  },
  {
   "cell_type": "code",
   "execution_count": 14,
   "metadata": {},
   "outputs": [],
   "source": [
    "w = Queen.from_dataframe(mad)\n",
    "lisa = Moran_Local(mad['arturo_score'], w)"
   ]
  },
  {
   "cell_type": "markdown",
   "metadata": {},
   "source": [
    "To find out the clusters, we want to plot significant clusters identified at say, 1% significance level. Let's first create a column for that:"
   ]
  },
  {
   "cell_type": "code",
   "execution_count": 15,
   "metadata": {},
   "outputs": [],
   "source": [
    "sig = lisa.p_sim < 0.01\n",
    "mad['clusters'] = lisa.q * sig"
   ]
  },
  {
   "cell_type": "markdown",
   "metadata": {},
   "source": [
    "Now let's make those human-readable by translating the number code to the type of cluster:"
   ]
  },
  {
   "cell_type": "code",
   "execution_count": 16,
   "metadata": {},
   "outputs": [],
   "source": [
    "cross_walk = {1: 'High-High', 2: 'Low-High', \n",
    "              3: 'Low-Low', 4: 'High-Low',\n",
    "              0: 'Non-Sig. (1%)'}\n",
    "mad['lisa_labels'] = mad['clusters'].map(cross_walk)"
   ]
  },
  {
   "cell_type": "markdown",
   "metadata": {},
   "source": [
    "And we can ship this to Kepler now! Note how we work a bit more on parsing the results and a pre-defined `config` so the default looks like a proper [LISA cluster map](https://geodacenter.github.io/workbook/6a_local_auto/lab6a.html):"
   ]
  },
  {
   "cell_type": "code",
   "execution_count": 17,
   "metadata": {},
   "outputs": [],
   "source": [
    "hh = mad.query('lisa_labels == \"High-High\"')\n",
    "ll = mad.query('lisa_labels == \"Low-Low\"')\n",
    "lh = mad.query('lisa_labels == \"Low-High\"')\n",
    "hl = mad.query('lisa_labels == \"High-Low\"')\n",
    "ns = mad.query('lisa_labels == \"Non-Sig. (1%)\"')"
   ]
  },
  {
   "cell_type": "code",
   "execution_count": 18,
   "metadata": {},
   "outputs": [
    {
     "name": "stdout",
     "output_type": "stream",
     "text": [
      "User Guide: https://github.com/keplergl/kepler.gl/blob/master/docs/keplergl-jupyter/user-guide.md\n"
     ]
    },
    {
     "data": {
      "application/vnd.jupyter.widget-view+json": {
       "model_id": "5a21547f676d4570abed97a7cbf2b0d4",
       "version_major": 2,
       "version_minor": 0
      },
      "text/plain": [
       "KeplerGl(config={'version': 'v1', 'config': {'visState': {'filters': [], 'layers': [{'id': 'rw8f0te', 'type': …"
      ]
     },
     "metadata": {},
     "output_type": "display_data"
    }
   ],
   "source": [
    "m4 = KeplerGl(height=600, \n",
    "              data={'High-High': hh,\n",
    "                    'Low-Low': ll,\n",
    "                    'Low-High': lh,\n",
    "                    'High-Low': hl,\n",
    "                    'Non-Sig. (1%)': ns},\n",
    "              config=load(open('config_lisa.json')))\n",
    "m4"
   ]
  },
  {
   "cell_type": "code",
   "execution_count": 19,
   "metadata": {},
   "outputs": [],
   "source": [
    "with open('config_lisa.json', 'w') as f:\n",
    "    dump(m4.config, f)"
   ]
  }
 ],
 "metadata": {
  "kernelspec": {
   "display_name": "Python 3",
   "language": "python",
   "name": "python3"
  },
  "language_info": {
   "codemirror_mode": {
    "name": "ipython",
    "version": 3
   },
   "file_extension": ".py",
   "mimetype": "text/x-python",
   "name": "python",
   "nbconvert_exporter": "python",
   "pygments_lexer": "ipython3",
   "version": "3.7.1"
  }
 },
 "nbformat": 4,
 "nbformat_minor": 2
}
